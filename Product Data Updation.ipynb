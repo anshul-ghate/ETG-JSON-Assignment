{
 "cells": [
  {
   "cell_type": "markdown",
   "id": "b4710ebd",
   "metadata": {},
   "source": [
    "# Insertion & Editing of records"
   ]
  },
  {
   "cell_type": "code",
   "execution_count": 1,
   "id": "dfa5b5f9",
   "metadata": {},
   "outputs": [
    {
     "data": {
      "text/plain": [
       "{'1001': {'name': 'Choco Cake', 'qn': 34, 'pr': 100},\n",
       " '1002': {'name': 'Milk Cake', 'pr': 800, 'qn': 100},\n",
       " '1003': {'name': 'Drink', 'pr': 85, 'qn': 100},\n",
       " '1004': {'name': 'Candy', 'pr': 5, 'qn': 1000},\n",
       " '1005': {'name': 'Pen', 'pr': 20, 'qn': 100},\n",
       " '1006': {'name': 'Phone', 'pr': 50000, 'qn': 10},\n",
       " '1007': {'name': 'Mic', 'pr': 1500, 'qn': 10},\n",
       " '1008': {'name': 'Case', 'pr': 599, 'qn': 5},\n",
       " '1009': {'name': 'Keyboard', 'pr': 1999, 'qn': 10},\n",
       " '1010': {'name': '5star', 'pr': 10, 'qn': 350},\n",
       " '1011': {'name': 'Headphone', 'pr': 1599, 'qn': 20},\n",
       " '1012': {'name': 'Sanitizer', 'pr': 60, 'qn': 364},\n",
       " '1013': {'name': 'Bread', 'pr': 25, 'qn': 25},\n",
       " '1014': {'name': 'PeanutButter', 'pr': 300, 'qn': 40},\n",
       " '1015': {'name': 'Milk', 'pr': 28, 'qn': 60},\n",
       " '1016': {'name': 'Battery', 'pr': 6, 'qn': 100},\n",
       " '1017': {'name': 'Bottle', 'pr': 70, 'qn': 150},\n",
       " '1018': {'name': 'Chicken', 'pr': 250, 'qn': 85},\n",
       " '1019': {'name': 'Lobster', 'pr': 750, 'qn': 95},\n",
       " '1020': {'name': 'Fish', 'pr': 350, 'qn': 100},\n",
       " '1021': {'name': 'Carrot', 'pr': 15, 'qn': 49},\n",
       " '1022': {'name': 'Tomato', 'pr': 60, 'qn': 100},\n",
       " '1023': {'name': 'Potato', 'pr': 40, 'qn': 210},\n",
       " '1024': {'name': 'Rose', 'pr': 20, 'qn': 400},\n",
       " '1025': {'name': 'Lily', 'pr': 30, 'qn': 65},\n",
       " '1026': {'name': 'Sunflower', 'pr': 30, 'qn': 150},\n",
       " '1027': {'name': 'Garlic', 'pr': 20, 'qn': 150},\n",
       " '1028': {'name': 'Ginger', 'pr': 20, 'qn': 65},\n",
       " '1029': {'name': 'Banana', 'pr': 40, 'qn': 165},\n",
       " '1030': {'name': 'Apple', 'pr': 50, 'qn': 165},\n",
       " '1031': {'name': 'Papaya', 'pr': 30, 'qn': 165}}"
      ]
     },
     "execution_count": 1,
     "metadata": {},
     "output_type": "execute_result"
    }
   ],
   "source": [
    "import json   #loading data\n",
    "\n",
    "fd = open(\"record.json\", 'r')\n",
    "r = fd.read()\n",
    "fd.close()\n",
    "\n",
    "record = json.loads(r)\n",
    "\n",
    "record\n"
   ]
  },
  {
   "cell_type": "code",
   "execution_count": 3,
   "id": "99214a31",
   "metadata": {},
   "outputs": [
    {
     "name": "stdout",
     "output_type": "stream",
     "text": [
      "Enter product ID: 1031\n",
      "Enter Product Name: Papaya\n",
      "Enter Product Price: 30\n",
      "Enter Quantity: 160\n",
      "1031 already has 165\n",
      "Do you want to add the quantity to existing? Y?N:  n\n",
      "do you want to add more items to record? Y?N: y\n",
      "Enter product ID: 1032\n",
      "Enter Product Name: Oranges\n",
      "Enter Product Price: 50\n",
      "Enter Quantity: 223\n",
      "1032 already has 24\n",
      "Do you want to add the quantity to existing? Y?N:  y\n",
      "do you want to add more items to record? Y?N: n\n"
     ]
    }
   ],
   "source": [
    "while True:\n",
    "    pro_id = str(input(\"Enter product ID: \"))\n",
    "    name = str(input(\"Enter Product Name: \"))\n",
    "    pr = int(input(\"Enter Product Price: \"))\n",
    "    qn = int(input(\"Enter Quantity: \"))\n",
    "    \n",
    "    if pro_id in record:\n",
    "        print(pro_id+\" already has \"+str(record[pro_id]['qn']))\n",
    "        op = input(\"Do you want to add the quantity to existing? Y?N:  \")\n",
    "        if (op == 'Y' or op == 'y'):\n",
    "            qn = int(record[pro_id]['qn'] + qn)\n",
    "    record[pro_id] = {'name': name, 'pr': pr, 'qn': qn}\n",
    "    \n",
    "    op2 = str(input(\"do you want to add more items to record? Y?N: \"))\n",
    "    if (op2 == 'N' or op2 == 'n'):\n",
    "        break\n",
    "    else:\n",
    "        continue\n",
    "        "
   ]
  },
  {
   "cell_type": "markdown",
   "id": "925f9023",
   "metadata": {},
   "source": [
    "## Deleating Records"
   ]
  },
  {
   "cell_type": "code",
   "execution_count": 5,
   "id": "6f9fbb30",
   "metadata": {},
   "outputs": [
    {
     "name": "stdout",
     "output_type": "stream",
     "text": [
      "Enter product id you want to remove: 1031\n",
      "Do you want to delete Other record? Y?N: n\n"
     ]
    }
   ],
   "source": [
    "while True:\n",
    "    pro_id = input(\"Enter product id you want to remove: \")\n",
    "    if pro_id in record:\n",
    "        del record[pro_id]\n",
    "    else:\n",
    "        print(\"Product dosen't exist or has already been removed\")\n",
    "    op1 = input(\"Do you want to delete Other record? Y?N: \")\n",
    "    if (op1 == 'N' or op1 == 'n'):\n",
    "        break\n",
    "    else:\n",
    "        continue"
   ]
  },
  {
   "cell_type": "code",
   "execution_count": 7,
   "id": "c085e790",
   "metadata": {},
   "outputs": [],
   "source": [
    "js = json.dumps(record)\n",
    "fd = open(\"record.json\",'w')\n",
    "fd.write(js)\n",
    "fd.close()"
   ]
  },
  {
   "cell_type": "code",
   "execution_count": null,
   "id": "d9142d30",
   "metadata": {},
   "outputs": [],
   "source": []
  }
 ],
 "metadata": {
  "kernelspec": {
   "display_name": "Python 3 (ipykernel)",
   "language": "python",
   "name": "python3"
  },
  "language_info": {
   "codemirror_mode": {
    "name": "ipython",
    "version": 3
   },
   "file_extension": ".py",
   "mimetype": "text/x-python",
   "name": "python",
   "nbconvert_exporter": "python",
   "pygments_lexer": "ipython3",
   "version": "3.9.6"
  }
 },
 "nbformat": 4,
 "nbformat_minor": 5
}
