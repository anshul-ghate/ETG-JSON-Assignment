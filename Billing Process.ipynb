{
 "cells": [
  {
   "cell_type": "code",
   "execution_count": 1,
   "id": "3c009135",
   "metadata": {},
   "outputs": [
    {
     "name": "stdout",
     "output_type": "stream",
     "text": [
      "Available products--->\n"
     ]
    },
    {
     "data": {
      "text/plain": [
       "{'1001': {'name': 'Choco Cake', 'qn': 34, 'pr': 100},\n",
       " '1002': {'name': 'Milk Cake', 'pr': 800, 'qn': 100},\n",
       " '1003': {'name': 'Drink', 'pr': 85, 'qn': 100},\n",
       " '1004': {'name': 'Candy', 'pr': 5, 'qn': 1000},\n",
       " '1005': {'name': 'Pen', 'pr': 20, 'qn': 100},\n",
       " '1006': {'name': 'Phone', 'pr': 50000, 'qn': 10},\n",
       " '1007': {'name': 'Mic', 'pr': 1500, 'qn': 10},\n",
       " '1008': {'name': 'Case', 'pr': 599, 'qn': 5},\n",
       " '1009': {'name': 'Keyboard', 'pr': 1999, 'qn': 10},\n",
       " '1010': {'name': '5star', 'pr': 10, 'qn': 350},\n",
       " '1011': {'name': 'Headphone', 'pr': 1599, 'qn': 20},\n",
       " '1012': {'name': 'Sanitizer', 'pr': 60, 'qn': 364},\n",
       " '1013': {'name': 'Bread', 'pr': 25, 'qn': 21},\n",
       " '1014': {'name': 'PeanutButter', 'pr': 300, 'qn': 40},\n",
       " '1015': {'name': 'Milk', 'pr': 28, 'qn': 60},\n",
       " '1016': {'name': 'Battery', 'pr': 6, 'qn': 100},\n",
       " '1017': {'name': 'Bottle', 'pr': 70, 'qn': 150},\n",
       " '1018': {'name': 'Chicken', 'pr': 250, 'qn': 85},\n",
       " '1019': {'name': 'Lobster', 'pr': 750, 'qn': 95},\n",
       " '1020': {'name': 'Fish', 'pr': 350, 'qn': 100},\n",
       " '1021': {'name': 'Carrot', 'pr': 15, 'qn': 49},\n",
       " '1022': {'name': 'Tomato', 'pr': 60, 'qn': 100},\n",
       " '1023': {'name': 'Potato', 'pr': 40, 'qn': 210},\n",
       " '1024': {'name': 'Rose', 'pr': 20, 'qn': 400},\n",
       " '1025': {'name': 'Lily', 'pr': 30, 'qn': 65},\n",
       " '1026': {'name': 'Sunflower', 'pr': 30, 'qn': 150},\n",
       " '1027': {'name': 'Garlic', 'pr': 20, 'qn': 150},\n",
       " '1028': {'name': 'Ginger', 'pr': 20, 'qn': 65},\n",
       " '1029': {'name': 'Banana', 'pr': 40, 'qn': 162},\n",
       " '1030': {'name': 'Apple', 'pr': 50, 'qn': 165},\n",
       " '1032': {'name': 'Oranges', 'pr': 50, 'qn': 244}}"
      ]
     },
     "execution_count": 1,
     "metadata": {},
     "output_type": "execute_result"
    }
   ],
   "source": [
    "import json \n",
    "from datetime import datetime\n",
    "\n",
    "\n",
    "fd = open(\"record.json\",'r')\n",
    "r = fd.read()\n",
    "fd.close()\n",
    "\n",
    "fd = open(\"purchase.json\",'r')\n",
    "p = fd.read()\n",
    "fd.close()\n",
    "\n",
    "record = json.loads(r)\n",
    "purchase = json.loads(p)\n",
    "\n",
    "print('Available products--->')  #Displaying available options\n",
    "\n",
    "record"
   ]
  },
  {
   "cell_type": "markdown",
   "id": "f5053a9e",
   "metadata": {},
   "source": [
    "### Buying of items by Buyer\n",
    "buyer gets to choose the item using product id, as well as the quantity of items purchased is updated, and transaction data is collected"
   ]
  },
  {
   "cell_type": "code",
   "execution_count": 2,
   "id": "8d011f9c",
   "metadata": {},
   "outputs": [
    {
     "name": "stdout",
     "output_type": "stream",
     "text": [
      "Enter buyers name: Nikhil\n",
      "Enter product id you want to buy: 1006\n",
      " Enter quantity: 1\n",
      "~~~~~~~~~~~~~~~~~~~~~~~~~~~~~~\n",
      "Product:  Phone\n",
      "Price  :  50000\n",
      "Quantity ordered:  1\n",
      "Billable Amount:  50000\n",
      "~~~~~~~~~~~~~~~~~~~~~~~~~~~~~~\n",
      "Do you want to continue? Y?N : y\n",
      "Enter product id you want to buy: 1011\n",
      " Enter quantity: 2\n",
      "~~~~~~~~~~~~~~~~~~~~~~~~~~~~~~\n",
      "Product:  Headphone\n",
      "Price  :  1599\n",
      "Quantity ordered:  2\n",
      "Billable Amount:  3198\n",
      "~~~~~~~~~~~~~~~~~~~~~~~~~~~~~~\n",
      "Do you want to continue? Y?N : n\n"
     ]
    }
   ],
   "source": [
    "\n",
    "buyer = str(input(\"Enter buyers name: \"))\n",
    "dth = datetime.now()\n",
    "dt = dth.strftime(\"%d/%m/%Y %H:%M\")\n",
    "bn = \"BN\"+dth.strftime(\"%d%m%Y%H%M%S\")\n",
    "\n",
    "while True:\n",
    "    pro_id = str(input(\"Enter product id you want to buy: \"))\n",
    "    buy_qnt = int(input(\" Enter quantity: \"))\n",
    "    \n",
    "    if pro_id in record:\n",
    "        \n",
    "        if record[pro_id]['qn'] >= buy_qnt:\n",
    "            \n",
    "            print(\"~~~~~~~~~~~~~~~~~~~~~~~~~~~~~~\")\n",
    "            print(\"Product: \", record[pro_id]['name'])\n",
    "            print(\"Price  : \", record[pro_id]['pr'])\n",
    "            print(\"Quantity ordered: \", buy_qnt)\n",
    "            print(\"Billable Amount: \", record[pro_id]['pr']*buy_qnt)\n",
    "            print(\"~~~~~~~~~~~~~~~~~~~~~~~~~~~~~~\")\n",
    "            \n",
    "            dth = datetime.now()\n",
    "            dt = dth.strftime(\"%d/%m/%Y %H:%M\")\n",
    "            t_id = \"t\"+dth.strftime(\"%d%m%Y%H%M%S\")\n",
    "            purchase[t_id] = {'Bill_no.': bn, 'pro_id': pro_id, 'buyer': buyer, \n",
    "                              'pro_name': record[pro_id]['name'], 'qnt': buy_qnt, 'date_time': dt, \n",
    "                              'pr': record[pro_id]['pr'], 'amt': record[pro_id]['pr']*buy_qnt}\n",
    "            \n",
    "            record[pro_id]['qn'] = int(record[pro_id]['qn']) - int(buy_qnt)\n",
    "            \n",
    "        else:\n",
    "            print(\"We don't have sufficient no. of your product available.\")\n",
    "            \n",
    "    else:\n",
    "        print(\"Please enter a valid product ID\")\n",
    "        print(\"===============================\")\n",
    "        \n",
    "    ch = input(\"Do you want to continue? Y?N : \")\n",
    "    if(ch == 'N' or ch =='n'):\n",
    "        break\n",
    "    else:\n",
    "        continue\n"
   ]
  },
  {
   "cell_type": "code",
   "execution_count": 3,
   "id": "1271b42b",
   "metadata": {},
   "outputs": [
    {
     "name": "stdout",
     "output_type": "stream",
     "text": [
      "{'Bill_no.': 'BN07092021111958', 'pro_id': '1006', 'buyer': 'Nikhil', 'pro_name': 'Phone', 'qnt': 1, 'date_time': '07/09/2021 11:20', 'pr': 50000, 'amt': 50000}\n",
      "{'Bill_no.': 'BN07092021111958', 'pro_id': '1011', 'buyer': 'Nikhil', 'pro_name': 'Headphone', 'qnt': 2, 'date_time': '07/09/2021 11:20', 'pr': 1599, 'amt': 3198}\n"
     ]
    }
   ],
   "source": [
    "for n in purchase:\n",
    "    if bn == purchase[n]['Bill_no.']: #Printing the billing data only for current bill no.\n",
    "        print(purchase[n])"
   ]
  },
  {
   "cell_type": "markdown",
   "id": "f924c709",
   "metadata": {},
   "source": [
    "``` \n",
    "\n",
    "        user has to choose if to continue or \n",
    "        to review and make changes to the baught item list\n",
    "       \n",
    "```"
   ]
  },
  {
   "cell_type": "code",
   "execution_count": 5,
   "id": "baf8b86a",
   "metadata": {},
   "outputs": [
    {
     "name": "stdout",
     "output_type": "stream",
     "text": [
      "Do you wnat to confirm your order Y/N: y\n"
     ]
    }
   ],
   "source": [
    "while True:\n",
    "    ch = str(input(\"Do you wnat to confirm your order Y/N: \")) \n",
    "    if (ch == 'Y' or ch =='y'):\n",
    "        break\n",
    "    else:\n",
    "        op = input(\"1. Remove an item \\n2. Edit an item \\n\")\n",
    "        t_id = input(\"Transaction id to be removed or edited: \")\n",
    "        if t_id in purchase:\n",
    "            if op == '1':\n",
    "                del purchase[t_id]\n",
    "            elif op == '2':\n",
    "                new_qnt = int(input(\"Enter quantity you want: \"))\n",
    "                if new_qnt <= record[purchase[t_id]['pro_id']]['qn']:\n",
    "                    pro_id = purchase[t_id]['pro_id']\n",
    "                    record[pro_id]['qn'] += purchase[t_id]['qnt']\n",
    "                    purchase[t_id]['qnt'] = int(new_qnt)\n",
    "                    record[pro_id]['qn'] -= int(purchase[t_id]['qnt'])\n",
    "                    purchase[t_id]['amt'] = (new_qnt)*purchase[t_id]['pr']\n",
    "                else:\n",
    "                    print(\"\\nNo sufficient quantity. \")\n",
    "            else:\n",
    "                print(\"\\nTransaction ID not found\")\n",
    "        continue"
   ]
  },
  {
   "cell_type": "markdown",
   "id": "e1fe0b32",
   "metadata": {},
   "source": [
    "### Removing products with 0 quantity from record"
   ]
  },
  {
   "cell_type": "code",
   "execution_count": 6,
   "id": "5cf3149d",
   "metadata": {},
   "outputs": [],
   "source": [
    "for n in purchase:\n",
    "    pro_id = purchase[n]['pro_id']\n",
    "    \n",
    "    if record[pro_id]['qn'] == 0:\n",
    "        del record[pro_id]"
   ]
  },
  {
   "cell_type": "markdown",
   "id": "cc9499db",
   "metadata": {},
   "source": [
    "## Generating final bill amount"
   ]
  },
  {
   "cell_type": "code",
   "execution_count": 7,
   "id": "13883468",
   "metadata": {},
   "outputs": [
    {
     "name": "stdout",
     "output_type": "stream",
     "text": [
      "\n",
      "Your Final Bill :   \n",
      "|||||||||||||||||||||||||||||||||||||||||||||\n",
      "Buyers name:  Nikhil\n",
      "Bill No. :  BN07092021111958\n",
      "|||||||||||||||||||||||||||||||||||||||||||||\n",
      "Product\t\tPrice\tQauntity\tTotal\n",
      "Phone\t50000\t1\t\t50000\n",
      "Headphone\t1599\t2\t\t3198\n",
      "|||||||||||||||||||||||||||||||||||||||||||||\n",
      "Final amount is = 53198\n",
      "~~~~~~~~~~~~~~~Thank You~~~~~~~~~~~~~~~\n"
     ]
    }
   ],
   "source": [
    "print(\"\\nYour Final Bill :   \")\n",
    "print(\"|||||||||||||||||||||||||||||||||||||||||||||\")\n",
    "print(\"Buyers name: \", buyer)\n",
    "print(\"Bill No. : \", bn)\n",
    "print(\"|||||||||||||||||||||||||||||||||||||||||||||\")\n",
    "print(\"Product\\t\\tPrice\\tQauntity\\tTotal\")\n",
    "final_amt = 0\n",
    "for cue in purchase:\n",
    "    if bn == purchase[cue]['Bill_no.']:\n",
    "        print(str(purchase[cue]['pro_name'])+\"\\t\"+str(purchase[cue]['pr'])+\"\\t\"+str(purchase[cue]['qnt'])+\"\\t\\t\"\n",
    "             +str(purchase[cue]['amt']))\n",
    "        final_amt += int(purchase[cue]['amt'])\n",
    "print(\"|||||||||||||||||||||||||||||||||||||||||||||\")\n",
    "print(\"Final amount is = \" + str(final_amt))\n",
    "print(\"~~~~~~~~~~~~~~~Thank You~~~~~~~~~~~~~~~\")"
   ]
  },
  {
   "cell_type": "markdown",
   "id": "d5e0073e",
   "metadata": {},
   "source": [
    "### Updating and saving details to backend"
   ]
  },
  {
   "cell_type": "code",
   "execution_count": 8,
   "id": "6c9ffa29",
   "metadata": {},
   "outputs": [
    {
     "data": {
      "text/plain": [
       "<function TextIOWrapper.close()>"
      ]
     },
     "execution_count": 8,
     "metadata": {},
     "output_type": "execute_result"
    }
   ],
   "source": [
    "js = json.dumps(record)\n",
    "\n",
    "fd = open(\"record.json\", 'w')\n",
    "fd.write(js)\n",
    "fd.close()\n",
    "\n",
    "js = json.dumps(purchase)\n",
    "\n",
    "fd = open(\"purchase.json\", 'w')\n",
    "fd.write(js)\n",
    "fd.close"
   ]
  },
  {
   "cell_type": "code",
   "execution_count": null,
   "id": "9fa91f34",
   "metadata": {},
   "outputs": [],
   "source": []
  }
 ],
 "metadata": {
  "kernelspec": {
   "display_name": "Python 3 (ipykernel)",
   "language": "python",
   "name": "python3"
  },
  "language_info": {
   "codemirror_mode": {
    "name": "ipython",
    "version": 3
   },
   "file_extension": ".py",
   "mimetype": "text/x-python",
   "name": "python",
   "nbconvert_exporter": "python",
   "pygments_lexer": "ipython3",
   "version": "3.9.6"
  }
 },
 "nbformat": 4,
 "nbformat_minor": 5
}
